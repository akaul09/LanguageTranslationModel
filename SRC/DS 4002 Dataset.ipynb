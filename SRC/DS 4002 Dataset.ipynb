{
 "cells": [
  {
   "cell_type": "code",
   "execution_count": 29,
   "metadata": {},
   "outputs": [],
   "source": [
    "import pandas as pd\n",
    "import numpy as np\n",
    "import os"
   ]
  },
  {
   "cell_type": "code",
   "execution_count": 30,
   "metadata": {},
   "outputs": [],
   "source": [
    "# Read in first 35,000 rows of dataset and rename columns\n",
    "en_fr_df = pd.read_csv(\"eng_-french.csv\")\n",
    "en_fr_df = en_fr_df[0:35000]\n",
    "en_fr_df.rename(columns={\"English words/sentences\": \"en\", \"French words/sentences\": \"fr\"}, inplace=True)"
   ]
  },
  {
   "cell_type": "code",
   "execution_count": 34,
   "metadata": {},
   "outputs": [],
   "source": [
    "# String lengths of English and French phrases\n",
    "en_str_len = en_fr_df[\"en\"].str.len()\n",
    "fr_str_len = en_fr_df[\"fr\"].str.len()"
   ]
  },
  {
   "cell_type": "code",
   "execution_count": 35,
   "metadata": {},
   "outputs": [],
   "source": [
    "# Create individual and combined dataframes for English and French phrase length\n",
    "en_str_len_df = pd.DataFrame({\"str_len\": en_str_len,\n",
    "                              \"lang\": \"en\"})\n",
    "fr_str_len_df = pd.DataFrame({\"str_len\": fr_str_len,\n",
    "                              \"lang\": \"fr\"})\n",
    "str_lens_df = pd.concat([en_str_len_df, fr_str_len_df])"
   ]
  },
  {
   "cell_type": "code",
   "execution_count": 36,
   "metadata": {},
   "outputs": [],
   "source": [
    "# Write string lengths to csv file\n",
    "str_lens_df.to_csv(\"str_lens_df.csv\", index=False)"
   ]
  },
  {
   "cell_type": "code",
   "execution_count": 59,
   "metadata": {},
   "outputs": [
    {
     "data": {
      "text/html": [
       "<div>\n",
       "<style scoped>\n",
       "    .dataframe tbody tr th:only-of-type {\n",
       "        vertical-align: middle;\n",
       "    }\n",
       "\n",
       "    .dataframe tbody tr th {\n",
       "        vertical-align: top;\n",
       "    }\n",
       "\n",
       "    .dataframe thead th {\n",
       "        text-align: right;\n",
       "    }\n",
       "</style>\n",
       "<table border=\"1\" class=\"dataframe\">\n",
       "  <thead>\n",
       "    <tr style=\"text-align: right;\">\n",
       "      <th></th>\n",
       "      <th>lang</th>\n",
       "      <th>bin</th>\n",
       "      <th>num</th>\n",
       "    </tr>\n",
       "  </thead>\n",
       "  <tbody>\n",
       "    <tr>\n",
       "      <th>0</th>\n",
       "      <td>en</td>\n",
       "      <td>Less than 10</td>\n",
       "      <td>486</td>\n",
       "    </tr>\n",
       "    <tr>\n",
       "      <th>1</th>\n",
       "      <td>en</td>\n",
       "      <td>10 to 14</td>\n",
       "      <td>6628</td>\n",
       "    </tr>\n",
       "    <tr>\n",
       "      <th>2</th>\n",
       "      <td>en</td>\n",
       "      <td>15 to 19</td>\n",
       "      <td>20631</td>\n",
       "    </tr>\n",
       "    <tr>\n",
       "      <th>3</th>\n",
       "      <td>en</td>\n",
       "      <td>20 to 24</td>\n",
       "      <td>7255</td>\n",
       "    </tr>\n",
       "    <tr>\n",
       "      <th>4</th>\n",
       "      <td>en</td>\n",
       "      <td>25 to 29</td>\n",
       "      <td>0</td>\n",
       "    </tr>\n",
       "    <tr>\n",
       "      <th>5</th>\n",
       "      <td>en</td>\n",
       "      <td>30 or more</td>\n",
       "      <td>0</td>\n",
       "    </tr>\n",
       "    <tr>\n",
       "      <th>6</th>\n",
       "      <td>fr</td>\n",
       "      <td>Less than 10</td>\n",
       "      <td>287</td>\n",
       "    </tr>\n",
       "    <tr>\n",
       "      <th>7</th>\n",
       "      <td>fr</td>\n",
       "      <td>10 to 14</td>\n",
       "      <td>3006</td>\n",
       "    </tr>\n",
       "    <tr>\n",
       "      <th>8</th>\n",
       "      <td>fr</td>\n",
       "      <td>15 to 19</td>\n",
       "      <td>9463</td>\n",
       "    </tr>\n",
       "    <tr>\n",
       "      <th>9</th>\n",
       "      <td>fr</td>\n",
       "      <td>20 to 24</td>\n",
       "      <td>11556</td>\n",
       "    </tr>\n",
       "    <tr>\n",
       "      <th>10</th>\n",
       "      <td>fr</td>\n",
       "      <td>25 to 29</td>\n",
       "      <td>7051</td>\n",
       "    </tr>\n",
       "    <tr>\n",
       "      <th>11</th>\n",
       "      <td>fr</td>\n",
       "      <td>30 or more</td>\n",
       "      <td>3637</td>\n",
       "    </tr>\n",
       "  </tbody>\n",
       "</table>\n",
       "</div>"
      ],
      "text/plain": [
       "   lang           bin    num\n",
       "0    en  Less than 10    486\n",
       "1    en      10 to 14   6628\n",
       "2    en      15 to 19  20631\n",
       "3    en      20 to 24   7255\n",
       "4    en      25 to 29      0\n",
       "5    en    30 or more      0\n",
       "6    fr  Less than 10    287\n",
       "7    fr      10 to 14   3006\n",
       "8    fr      15 to 19   9463\n",
       "9    fr      20 to 24  11556\n",
       "10   fr      25 to 29   7051\n",
       "11   fr    30 or more   3637"
      ]
     },
     "execution_count": 59,
     "metadata": {},
     "output_type": "execute_result"
    }
   ],
   "source": [
    "# Create dataframe of bins with counts for string length for EDA\n",
    "bins_df = pd.DataFrame({\"lang\": pd.Series(dtype=\"str\"),\n",
    "                        \"bin\": pd.Series(dtype=\"str\"),\n",
    "                        \"num\": pd.Series(dtype=\"int\")})\n",
    "\n",
    "bins_df.loc[len(bins_df.index)] = [\"en\", \"Less than 10\", len(en_str_len[en_str_len < 10])]\n",
    "bins_df.loc[len(bins_df.index)] = [\"en\", \"10 to 14\", len(en_str_len[(en_str_len >= 10) & (en_str_len < 15)])]\n",
    "bins_df.loc[len(bins_df.index)] = [\"en\", \"15 to 19\", len(en_str_len[(en_str_len >= 15) & (en_str_len < 20)])]\n",
    "bins_df.loc[len(bins_df.index)] = [\"en\", \"20 to 24\", len(en_str_len[(en_str_len >= 20) & (en_str_len < 25)])]\n",
    "bins_df.loc[len(bins_df.index)] = [\"en\", \"25 to 29\", len(en_str_len[(en_str_len >= 25) & (en_str_len < 30)])]\n",
    "bins_df.loc[len(bins_df.index)] = [\"en\", \"30 or more\", len(en_str_len[en_str_len >= 30])]\n",
    "\n",
    "bins_df.loc[len(bins_df.index)] = [\"fr\", \"Less than 10\", len(fr_str_len[fr_str_len < 10])]\n",
    "bins_df.loc[len(bins_df.index)] = [\"fr\", \"10 to 14\", len(fr_str_len[(fr_str_len >= 10) & (fr_str_len < 15)])]\n",
    "bins_df.loc[len(bins_df.index)] = [\"fr\", \"15 to 19\", len(fr_str_len[(fr_str_len >= 15) & (fr_str_len < 20)])]\n",
    "bins_df.loc[len(bins_df.index)] = [\"fr\", \"20 to 24\", len(fr_str_len[(fr_str_len >= 20) & (fr_str_len < 25)])]\n",
    "bins_df.loc[len(bins_df.index)] = [\"fr\", \"25 to 29\", len(fr_str_len[(fr_str_len >= 25) & (fr_str_len < 30)])]\n",
    "bins_df.loc[len(bins_df.index)] = [\"fr\", \"30 or more\", len(fr_str_len[fr_str_len >= 30])]"
   ]
  },
  {
   "cell_type": "code",
   "execution_count": 60,
   "metadata": {},
   "outputs": [],
   "source": [
    "# Write bins dataframe to csv file\n",
    "bins_df.to_csv(\"str_len_bins_df.csv\", index=False)"
   ]
  }
 ],
 "metadata": {
  "kernelspec": {
   "display_name": "base",
   "language": "python",
   "name": "python3"
  },
  "language_info": {
   "codemirror_mode": {
    "name": "ipython",
    "version": 3
   },
   "file_extension": ".py",
   "mimetype": "text/x-python",
   "name": "python",
   "nbconvert_exporter": "python",
   "pygments_lexer": "ipython3",
   "version": "3.9.12"
  },
  "orig_nbformat": 4
 },
 "nbformat": 4,
 "nbformat_minor": 2
}
